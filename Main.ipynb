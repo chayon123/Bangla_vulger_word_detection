{
  "cells": [
    {
      "cell_type": "markdown",
      "metadata": {
        "id": "view-in-github",
        "colab_type": "text"
      },
      "source": [
        "<a href=\"https://colab.research.google.com/github/rhrokib/bangla_vulgarity_detection/blob/main/Main.ipynb\" target=\"_parent\"><img src=\"https://colab.research.google.com/assets/colab-badge.svg\" alt=\"Open In Colab\"/></a>"
      ]
    },
    {
      "cell_type": "code",
      "execution_count": 1,
      "metadata": {
        "id": "3_tq-9L0XmjG"
      },
      "outputs": [],
      "source": [
        "import tensorflow as tf\n",
        "import numpy as np \n",
        "import pandas as pd"
      ]
    },
    {
      "cell_type": "markdown",
      "metadata": {
        "id": "1AIGj54VjGEd"
      },
      "source": [
        "#Dataset"
      ]
    },
    {
      "cell_type": "code",
      "execution_count": 2,
      "metadata": {
        "id": "pb0_VzoHZGov"
      },
      "outputs": [],
      "source": [
        "from sklearn.model_selection import train_test_split\n",
        "df = pd.read_csv('/content/drive/MyDrive/Colab Notebooks/thesis_project/preprocessed_dataset1.csv', na_values='nan')\n",
        "df.drop(columns=['Unnamed: 0'], inplace=True)\n",
        "\n",
        "train_data, test_data = train_test_split(df, random_state=7654, stratify=df['target'])"
      ]
    },
    {
      "cell_type": "code",
      "execution_count": 3,
      "metadata": {
        "id": "NpkaQ7HfZUZ7"
      },
      "outputs": [],
      "source": [
        "training_sentences = []\n",
        "testing_sentences = []\n",
        "training_labels = train_data['target']\n",
        "testing_labels = test_data['target']\n",
        "\n",
        "for t in train_data['text']:\n",
        "  training_sentences.append(str(t))\n",
        "\n",
        "for t in test_data['text']:\n",
        "  testing_sentences.append(str(t))"
      ]
    },
    {
      "cell_type": "code",
      "execution_count": 4,
      "metadata": {
        "id": "O4yXW84Jcl7U"
      },
      "outputs": [],
      "source": [
        "testing_labels = np.array(testing_labels)\n",
        "training_labels = np.array(training_labels)"
      ]
    },
    {
      "cell_type": "markdown",
      "source": [
        "#Hyper Perameters"
      ],
      "metadata": {
        "id": "bmqP6H7nuPpi"
      }
    },
    {
      "cell_type": "code",
      "source": [
        "vocab_size = 5000\n",
        "embedding_dim = 16\n",
        "max_length = 150\n",
        "trunc_type = 'post'\n",
        "oov_tok = '<OOV>'"
      ],
      "metadata": {
        "id": "QKML5n--uS2M"
      },
      "execution_count": 5,
      "outputs": []
    },
    {
      "cell_type": "markdown",
      "source": [
        "#Tokenizing and Padding sentences"
      ],
      "metadata": {
        "id": "cuS_M0xwuWRj"
      }
    },
    {
      "cell_type": "code",
      "execution_count": 6,
      "metadata": {
        "id": "lMjcL2Q9c97h"
      },
      "outputs": [],
      "source": [
        "from tensorflow.keras.preprocessing.text import Tokenizer\n",
        "from tensorflow.keras.preprocessing.sequence import pad_sequences\n",
        "\n",
        "tokenizer = Tokenizer(num_words=vocab_size, oov_token=oov_tok)\n",
        "tokenizer.fit_on_texts(training_sentences)\n",
        "word_index = tokenizer.word_index\n",
        "sequences = tokenizer.texts_to_sequences(training_sentences)\n",
        "padded = pad_sequences(sequences, maxlen=max_length, truncating=trunc_type)\n",
        "\n",
        "testing_sequences = tokenizer.texts_to_sequences(testing_sentences)\n",
        "testing_padded = pad_sequences(testing_sequences, maxlen=max_length, truncating=trunc_type)\n"
      ]
    },
    {
      "cell_type": "markdown",
      "metadata": {
        "id": "l1FFIRUctoDk"
      },
      "source": [
        "#Model V0.1"
      ]
    },
    {
      "cell_type": "code",
      "execution_count": 7,
      "metadata": {
        "colab": {
          "base_uri": "https://localhost:8080/",
          "height": 845
        },
        "id": "Jph_eU6dtpJV",
        "outputId": "35a6f55c-26c5-455b-c01e-0565f9e7ec32"
      },
      "outputs": [
        {
          "output_type": "stream",
          "name": "stdout",
          "text": [
            "Model: \"sequential\"\n",
            "_________________________________________________________________\n",
            " Layer (type)                Output Shape              Param #   \n",
            "=================================================================\n",
            " embedding (Embedding)       (None, 150, 16)           80000     \n",
            "                                                                 \n",
            " bidirectional (Bidirectiona  (None, 32)               4224      \n",
            " l)                                                              \n",
            "                                                                 \n",
            " dense (Dense)               (None, 6)                 198       \n",
            "                                                                 \n",
            " dense_1 (Dense)             (None, 1)                 7         \n",
            "                                                                 \n",
            "=================================================================\n",
            "Total params: 84,429\n",
            "Trainable params: 84,429\n",
            "Non-trainable params: 0\n",
            "_________________________________________________________________\n"
          ]
        },
        {
          "output_type": "execute_result",
          "data": {
            "image/png": "[encoded data removed]",
            "text/plain": [
              "<IPython.core.display.Image object>"
            ]
          },
          "metadata": {},
          "execution_count": 7
        }
      ],
      "source": [
        "from tensorflow.keras.utils import plot_model\n",
        "\n",
        "model  = tf.keras.Sequential([\n",
        "  tf.keras.layers.Embedding(vocab_size, embedding_dim, input_length=max_length),\n",
        "  # tf.keras.layers.Flatten(),\n",
        "  tf.keras.layers.Bidirectional(tf.keras.layers.LSTM(embedding_dim)),\n",
        "  tf.keras.layers.Dense(6, activation='relu'),\n",
        "  tf.keras.layers.Dense(1, activation='sigmoid')\n",
        "])\n",
        "\n",
        "model.compile(loss='binary_crossentropy', optimizer='adam', metrics=['accuracy'])\n",
        "model.summary()\n",
        "plot_model(model, to_file='model.png', show_shapes=True, show_layer_names=True)"
      ]
    },
    {
      "cell_type": "code",
      "execution_count": 8,
      "metadata": {
        "colab": {
          "base_uri": "https://localhost:8080/"
        },
        "id": "R7lUInUbyq85",
        "outputId": "7ebecdc8-38b7-4eca-8848-09a003bab456"
      },
      "outputs": [
        {
          "output_type": "stream",
          "name": "stdout",
          "text": [
            "Epoch 1/10\n",
            "467/467 [==============================] - 334s 712ms/step - loss: 0.4400 - accuracy: 0.7897 - val_loss: 0.3032 - val_accuracy: 0.8678\n",
            "Epoch 2/10\n",
            "467/467 [==============================] - 322s 689ms/step - loss: 0.2247 - accuracy: 0.9108 - val_loss: 0.2851 - val_accuracy: 0.8827\n",
            "Epoch 3/10\n",
            "467/467 [==============================] - 322s 690ms/step - loss: 0.1685 - accuracy: 0.9340 - val_loss: 0.3059 - val_accuracy: 0.8825\n",
            "Epoch 4/10\n",
            "467/467 [==============================] - 316s 678ms/step - loss: 0.1404 - accuracy: 0.9445 - val_loss: 0.3309 - val_accuracy: 0.8786\n",
            "Epoch 5/10\n",
            "467/467 [==============================] - 319s 683ms/step - loss: 0.1228 - accuracy: 0.9515 - val_loss: 0.3513 - val_accuracy: 0.8752\n",
            "Epoch 6/10\n",
            "467/467 [==============================] - 316s 677ms/step - loss: 0.1096 - accuracy: 0.9554 - val_loss: 0.3928 - val_accuracy: 0.8752\n",
            "Epoch 7/10\n",
            "467/467 [==============================] - 314s 674ms/step - loss: 0.0985 - accuracy: 0.9589 - val_loss: 0.4296 - val_accuracy: 0.8736\n",
            "Epoch 8/10\n",
            "467/467 [==============================] - 311s 665ms/step - loss: 0.0898 - accuracy: 0.9630 - val_loss: 0.4282 - val_accuracy: 0.8690\n",
            "Epoch 9/10\n",
            "467/467 [==============================] - 321s 687ms/step - loss: 0.0845 - accuracy: 0.9648 - val_loss: 0.4771 - val_accuracy: 0.8674\n",
            "Epoch 10/10\n",
            "467/467 [==============================] - 321s 688ms/step - loss: 0.0797 - accuracy: 0.9658 - val_loss: 0.5270 - val_accuracy: 0.8710\n"
          ]
        }
      ],
      "source": [
        "num_epochs = 10\n",
        "tf.config.run_functions_eagerly(True)\n",
        "tf.data.experimental.enable_debug_mode()\n",
        "# model.fit(padded,\n",
        "#           training_labels,\n",
        "#           epochs=num_epochs,\n",
        "#           validation_data=(testing_padded, testing_labels))\n",
        "history = model.fit(padded, training_labels, epochs=num_epochs, validation_data=(testing_padded, testing_labels), verbose=1)"
      ]
    },
    {
      "cell_type": "code",
      "execution_count": 9,
      "metadata": {
        "id": "xv0ifpBmles4",
        "outputId": "8ef3bf9a-37f3-4ef3-eb29-bec8fe6bdddd",
        "colab": {
          "base_uri": "https://localhost:8080/",
          "height": 541
        }
      },
      "outputs": [
        {
          "output_type": "display_data",
          "data": {
            "image/png": "[encoded data removed]",
            "text/plain": [
              "<Figure size 432x288 with 1 Axes>"
            ]
          },
          "metadata": {
            "needs_background": "light"
          }
        },
        {
          "output_type": "display_data",
          "data": {
            "image/png": "[encoded data removed]",
            "text/plain": [
              "<Figure size 432x288 with 1 Axes>"
            ]
          },
          "metadata": {
            "needs_background": "light"
          }
        }
      ],
      "source": [
        "import matplotlib.pyplot as plt\n",
        "\n",
        "\n",
        "def plot_graphs(history, string):\n",
        "  plt.plot(history.history[string])\n",
        "  plt.plot(history.history['val_'+string])\n",
        "  plt.xlabel(\"Epochs\")\n",
        "  plt.ylabel(string)\n",
        "  plt.legend([string, 'val_'+string])\n",
        "  plt.show()\n",
        "  \n",
        "plot_graphs(history, \"accuracy\")\n",
        "plot_graphs(history, \"loss\")"
      ]
    },
    {
      "cell_type": "code",
      "execution_count": 10,
      "metadata": {
        "id": "LKs7a0Xy0RpL"
      },
      "outputs": [],
      "source": [
        "pred = (model.predict(testing_padded) > 0.5).astype(int)"
      ]
    },
    {
      "cell_type": "markdown",
      "metadata": {
        "id": "V18J_lMYoSO3"
      },
      "source": [
        "#Embedding Vector"
      ]
    },
    {
      "cell_type": "code",
      "execution_count": 18,
      "metadata": {
        "id": "_e7RHsnD7P5z"
      },
      "outputs": [],
      "source": [
        "reverse_word_index = dict([(value, key) for (key, value) in word_index.items()])\n",
        "\n",
        "def decode_review(text):\n",
        "    return ' '.join([reverse_word_index.get(i, '?') for i in text])\n",
        "\n",
        "\n",
        "e = model.layers[0]\n",
        "weights = e.get_weights()[0]\n",
        "\n",
        "#To save the embedding vector_meta\n",
        "import io\n",
        "\n",
        "def save_vector(vocab_size, reverse_word_index, weights):\n",
        "    out_v = io.open('/content/drive/MyDrive/Colab Notebooks/thesis_project/vectors/vecs.tsv', 'w', encoding='utf-8')\n",
        "    out_m = io.open('/content/drive/MyDrive/Colab Notebooks/thesis_project/vectors/meta.tsv', 'w', encoding='utf-8')\n",
        "    for word_num in range(1, vocab_size):\n",
        "        word = reverse_word_index[word_num]\n",
        "        embeddings = weights[word_num]\n",
        "        out_m.write(word + \"\\n\")\n",
        "        out_v.write('\\t'.join([str(x) for x in embeddings]) + \"\\n\")\n",
        "    out_v.close()\n",
        "    out_m.close()\n",
        "        \n",
        "        \n",
        "save_vector(vocab_size, reverse_word_index, weights)\n",
        "\n",
        "# try:\n",
        "#   from google.colab import files\n",
        "# except ImportError:\n",
        "#   pass\n",
        "# else:\n",
        "#   files.download('vecs.tsv')\n",
        "#   files.download('meta.tsv')"
      ]
    },
    {
      "cell_type": "markdown",
      "metadata": {
        "id": "bAfOn90MoSO4"
      },
      "source": [
        "#Testing with manual input"
      ]
    },
    {
      "cell_type": "code",
      "execution_count": 13,
      "metadata": {
        "id": "zmB0_hjooc8M",
        "outputId": "1eae734d-91f6-4290-a31d-47ccfe3689f2",
        "colab": {
          "base_uri": "https://localhost:8080/"
        }
      },
      "outputs": [
        {
          "output_type": "stream",
          "name": "stdout",
          "text": [
            "[[0.48231378]\n",
            " [0.99986714]\n",
            " [0.00736296]]\n"
          ]
        }
      ],
      "source": [
        "sen = ['এত্তগুলা গালি 😑', 'কুত্তার বাচ্চা', 'কি আর লিখবো! মান সন্মান নিয়ে প্রশ্ন']\n",
        "\n",
        "test_sequences = tokenizer.texts_to_sequences(sen)\n",
        "test_padded = pad_sequences(test_sequences, maxlen=max_length, truncating=trunc_type)\n",
        "\n",
        "print(model.predict(test_padded)) "
      ]
    },
    {
      "cell_type": "markdown",
      "metadata": {
        "id": "DNM-oYA_oSO4"
      },
      "source": [
        "#Saving a model"
      ]
    },
    {
      "cell_type": "code",
      "execution_count": 14,
      "metadata": {
        "id": "nOu_QyKDoSO5"
      },
      "outputs": [],
      "source": [
        "# model.save('saved_models/LSTM_BI2.h5')"
      ]
    },
    {
      "cell_type": "markdown",
      "metadata": {
        "id": "jMyF5gYkoSO5"
      },
      "source": [
        "#Loading a pre-saved model"
      ]
    },
    {
      "cell_type": "code",
      "execution_count": 15,
      "metadata": {
        "id": "spMXmR0VoSO5"
      },
      "outputs": [],
      "source": [
        "# new_model = tf.keras.models.load_model('saved_models/LSTM_BI2.h5')"
      ]
    }
  ],
  "metadata": {
    "colab": {
      "name": "Copy of LastPrac.ipynb",
      "provenance": [],
      "include_colab_link": true
    },
    "kernelspec": {
      "display_name": "Python 3 (ipykernel)",
      "language": "python",
      "name": "python3"
    },
    "language_info": {
      "codemirror_mode": {
        "name": "ipython",
        "version": 3
      },
      "file_extension": ".py",
      "mimetype": "text/x-python",
      "name": "python",
      "nbconvert_exporter": "python",
      "pygments_lexer": "ipython3",
      "version": "3.9.7"
    }
  },
  "nbformat": 4,
  "nbformat_minor": 0
}