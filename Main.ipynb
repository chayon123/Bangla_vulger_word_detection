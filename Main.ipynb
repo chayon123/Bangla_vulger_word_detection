{
 "cells": [
  {
   "cell_type": "code",
   "execution_count": 1,
   "metadata": {
    "id": "3_tq-9L0XmjG"
   },
   "outputs": [],
   "source": [
    "import tensorflow as tf\n",
    "import numpy as np \n",
    "import pandas as pd\n",
    "\n"
   ]
  },
  {
   "cell_type": "markdown",
   "metadata": {
    "id": "1AIGj54VjGEd"
   },
   "source": [
    "#Dataset"
   ]
  },
  {
   "cell_type": "code",
   "execution_count": 2,
   "metadata": {
    "id": "pb0_VzoHZGov"
   },
   "outputs": [],
   "source": [
    "from sklearn.model_selection import train_test_split\n",
    "df = pd.read_csv('data/preprocessed_dataset.csv', na_values='nan')\n",
    "df.drop(columns=['Unnamed: 0'], inplace=True)\n",
    "\n",
    "train_data, test_data = train_test_split(df, random_state=7654, stratify=df['target'])"
   ]
  },
  {
   "cell_type": "code",
   "execution_count": 3,
   "metadata": {
    "id": "NpkaQ7HfZUZ7"
   },
   "outputs": [],
   "source": [
    "training_sentences = []\n",
    "testing_sentences = []\n",
    "training_labels = train_data['target']\n",
    "testing_labels = test_data['target']\n",
    "\n",
    "for t in train_data['text']:\n",
    "  training_sentences.append(str(t))\n",
    "\n",
    "for t in test_data['text']:\n",
    "  testing_sentences.append(str(t))"
   ]
  },
  {
   "cell_type": "code",
   "execution_count": 4,
   "metadata": {
    "id": "O4yXW84Jcl7U"
   },
   "outputs": [],
   "source": [
    "testing_labels = np.array(testing_labels)\n",
    "training_labels = np.array(training_labels)"
   ]
  },
  {
   "cell_type": "code",
   "execution_count": 5,
   "metadata": {
    "id": "lMjcL2Q9c97h"
   },
   "outputs": [],
   "source": [
    "vocab_size = 10000\n",
    "embedding_dim = 16\n",
    "max_length = 120\n",
    "trunc_type = 'post'\n",
    "oov_tok = '<OOV>'\n",
    "\n",
    "\n",
    "from tensorflow.keras.preprocessing.text import Tokenizer\n",
    "from tensorflow.keras.preprocessing.sequence import pad_sequences\n",
    "\n",
    "tokenizer = Tokenizer(num_words=vocab_size, oov_token=oov_tok)\n",
    "tokenizer.fit_on_texts(training_sentences)\n",
    "word_index = tokenizer.word_index\n",
    "sequences = tokenizer.texts_to_sequences(training_sentences)\n",
    "padded = pad_sequences(sequences, maxlen=max_length, truncating=trunc_type)\n",
    "\n",
    "testing_sequences = tokenizer.texts_to_sequences(testing_sentences)\n",
    "testing_padded = pad_sequences(testing_sequences, maxlen=max_length, truncating=trunc_type)\n"
   ]
  },
  {
   "cell_type": "markdown",
   "metadata": {
    "id": "l1FFIRUctoDk"
   },
   "source": [
    "#Model V0.1"
   ]
  },
  {
   "cell_type": "code",
   "execution_count": 7,
   "metadata": {
    "colab": {
     "base_uri": "https://localhost:8080/",
     "height": 845
    },
    "id": "Jph_eU6dtpJV",
    "outputId": "0eb9b9e9-dffe-4833-f388-27baf5a86b92"
   },
   "outputs": [
    {
     "name": "stdout",
     "output_type": "stream",
     "text": [
      "Model: \"sequential_1\"\n",
      "_________________________________________________________________\n",
      " Layer (type)                Output Shape              Param #   \n",
      "=================================================================\n",
      " embedding_1 (Embedding)     (None, 120, 16)           160000    \n",
      "                                                                 \n",
      " bidirectional_1 (Bidirectio  (None, 32)               4224      \n",
      " nal)                                                            \n",
      "                                                                 \n",
      " dense_2 (Dense)             (None, 6)                 198       \n",
      "                                                                 \n",
      " dense_3 (Dense)             (None, 1)                 7         \n",
      "                                                                 \n",
      "=================================================================\n",
      "Total params: 164,429\n",
      "Trainable params: 164,429\n",
      "Non-trainable params: 0\n",
      "_________________________________________________________________\n",
      "You must install pydot (`pip install pydot`) and install graphviz (see instructions at https://graphviz.gitlab.io/download/) for plot_model/model_to_dot to work.\n"
     ]
    }
   ],
   "source": [
    "from tensorflow.keras.utils import plot_model\n",
    "\n",
    "model  = tf.keras.Sequential([\n",
    "  tf.keras.layers.Embedding(vocab_size, embedding_dim, input_length=max_length),\n",
    "  # tf.keras.layers.Flatten(),\n",
    "  tf.keras.layers.Bidirectional(tf.keras.layers.LSTM(embedding_dim)),\n",
    "  tf.keras.layers.Dense(6, activation='relu'),\n",
    "  tf.keras.layers.Dense(1, activation='sigmoid')\n",
    "])\n",
    "\n",
    "model.compile(loss='binary_crossentropy', optimizer='adam', metrics=['accuracy'])\n",
    "model.summary()\n",
    "plot_model(model, to_file='model.png', show_shapes=True, show_layer_names=True)"
   ]
  },
  {
   "cell_type": "code",
   "execution_count": 19,
   "metadata": {
    "colab": {
     "base_uri": "https://localhost:8080/"
    },
    "id": "R7lUInUbyq85",
    "outputId": "c87469c8-25aa-4ecb-a675-52d2dacaaebb"
   },
   "outputs": [
    {
     "name": "stdout",
     "output_type": "stream",
     "text": [
      "Epoch 1/5\n",
      "467/467 - 144s - loss: 0.4087 - accuracy: 0.8040 - val_loss: 0.2788 - val_accuracy: 0.8805 - 144s/epoch - 308ms/step\n",
      "Epoch 2/5\n",
      "467/467 - 145s - loss: 0.1733 - accuracy: 0.9339 - val_loss: 0.2866 - val_accuracy: 0.8859 - 145s/epoch - 311ms/step\n",
      "Epoch 3/5\n",
      "467/467 - 144s - loss: 0.1076 - accuracy: 0.9603 - val_loss: 0.3306 - val_accuracy: 0.8807 - 144s/epoch - 308ms/step\n",
      "Epoch 4/5\n",
      "467/467 - 141s - loss: 0.0741 - accuracy: 0.9722 - val_loss: 0.3690 - val_accuracy: 0.8790 - 141s/epoch - 302ms/step\n",
      "Epoch 5/5\n",
      "467/467 - 139s - loss: 0.0575 - accuracy: 0.9777 - val_loss: 0.4429 - val_accuracy: 0.8772 - 139s/epoch - 298ms/step\n"
     ]
    }
   ],
   "source": [
    "num_epochs = 5\n",
    "tf.config.run_functions_eagerly(True)\n",
    "tf.data.experimental.enable_debug_mode()\n",
    "# model.fit(padded,\n",
    "#           training_labels,\n",
    "#           epochs=num_epochs,\n",
    "#           validation_data=(testing_padded, testing_labels))\n",
    "history = model.fit(padded, training_labels, epochs=num_epochs, validation_data=(testing_padded, testing_labels), verbose=2)"
   ]
  },
  {
   "cell_type": "code",
   "execution_count": 20,
   "metadata": {
    "id": "xv0ifpBmles4"
   },
   "outputs": [
    {
     "data": {
      "image/png": "[encoded data removed]",
      "text/plain": [
       "<Figure size 432x288 with 1 Axes>"
      ]
     },
     "metadata": {
      "needs_background": "light"
     },
     "output_type": "display_data"
    },
    {
     "data": {
      "image/png": "[encoded data removed]",
      "text/plain": [
       "<Figure size 432x288 with 1 Axes>"
      ]
     },
     "metadata": {
      "needs_background": "light"
     },
     "output_type": "display_data"
    }
   ],
   "source": [
    "import matplotlib.pyplot as plt\n",
    "\n",
    "\n",
    "def plot_graphs(history, string):\n",
    "  plt.plot(history.history[string])\n",
    "  plt.plot(history.history['val_'+string])\n",
    "  plt.xlabel(\"Epochs\")\n",
    "  plt.ylabel(string)\n",
    "  plt.legend([string, 'val_'+string])\n",
    "  plt.show()\n",
    "  \n",
    "plot_graphs(history, \"accuracy\")\n",
    "plot_graphs(history, \"loss\")"
   ]
  },
  {
   "cell_type": "code",
   "execution_count": 21,
   "metadata": {
    "id": "LKs7a0Xy0RpL"
   },
   "outputs": [],
   "source": [
    "pred = (model.predict(testing_padded) > 0.5).astype(int)"
   ]
  },
  {
   "cell_type": "markdown",
   "metadata": {},
   "source": [
    "#Embedding Vector"
   ]
  },
  {
   "cell_type": "code",
   "execution_count": 22,
   "metadata": {
    "id": "_e7RHsnD7P5z"
   },
   "outputs": [],
   "source": [
    "%%script false\n",
    "\n",
    "reverse_word_index = dict([(value, key) for (key, value) in word_index.items()])\n",
    "\n",
    "def decode_review(text):\n",
    "    return ' '.join([reverse_word_index.get(i, '?') for i in text])\n",
    "\n",
    "\n",
    "e = model.layers[0]\n",
    "weights = e.get_weights()[0]\n",
    "\n",
    "#To save the embedding vector_meta\n",
    "import io\n",
    "\n",
    "def save_vector(vocab_size, reverse_word_index, weights):\n",
    "    out_v = io.open('vectors/vecs.tsv', 'w', encoding='utf-8')\n",
    "    out_m = io.open('vectors/meta.tsv', 'w', encoding='utf-8')\n",
    "    for word_num in range(1, vocab_size):\n",
    "        word = reverse_word_index[word_num]\n",
    "        embeddings = weights[word_num]\n",
    "        out_m.write(word + \"\\n\")\n",
    "        out_v.write('\\t'.join([str(x) for x in embeddings]) + \"\\n\")\n",
    "        out_v.close()\n",
    "        out_m.close()\n",
    "        \n",
    "        \n",
    "#save_vector(vocab_size, reverse_word_index, weights)"
   ]
  },
  {
   "cell_type": "markdown",
   "metadata": {},
   "source": [
    "#Testing with manual input"
   ]
  },
  {
   "cell_type": "code",
   "execution_count": 25,
   "metadata": {
    "id": "zmB0_hjooc8M"
   },
   "outputs": [
    {
     "name": "stdout",
     "output_type": "stream",
     "text": [
      "[[0.9979919 ]\n",
      " [0.9990779 ]\n",
      " [0.06835467]\n",
      " [0.99965966]\n",
      " [0.94379306]]\n"
     ]
    }
   ],
   "source": [
    "sen = ['তোরে চুদি', 'কুত্তার বাচ্চা', 'তুমি ভালো আছো?', 'খানকি মাগি তোর ভাত আর খামু না', 'শুকরের বাচ্চা গুলো ঘুমাচ্ছে']\n",
    "\n",
    "test_sequences = tokenizer.texts_to_sequences(sen)\n",
    "test_padded = pad_sequences(test_sequences, maxlen=max_length, truncating=trunc_type)\n",
    "\n",
    "print(model.predict(test_padded)) "
   ]
  },
  {
   "cell_type": "markdown",
   "metadata": {},
   "source": [
    "#Saving a model"
   ]
  },
  {
   "cell_type": "code",
   "execution_count": 27,
   "metadata": {},
   "outputs": [],
   "source": [
    "# model.save('saved_models/LSTM_BI2.h5')"
   ]
  },
  {
   "cell_type": "markdown",
   "metadata": {},
   "source": [
    "#Loading a pre-saved model"
   ]
  },
  {
   "cell_type": "code",
   "execution_count": 30,
   "metadata": {},
   "outputs": [],
   "source": [
    "# new_model = tf.keras.models.load_model('saved_models/LSTM_BI2.h5')"
   ]
  }
 ],
 "metadata": {
  "colab": {
   "name": "Copy of LastPrac.ipynb",
   "provenance": []
  },
  "kernelspec": {
   "display_name": "Python 3 (ipykernel)",
   "language": "python",
   "name": "python3"
  },
  "language_info": {
   "codemirror_mode": {
    "name": "ipython",
    "version": 3
   },
   "file_extension": ".py",
   "mimetype": "text/x-python",
   "name": "python",
   "nbconvert_exporter": "python",
   "pygments_lexer": "ipython3",
   "version": "3.9.7"
  }
 },
 "nbformat": 4,
 "nbformat_minor": 1
}
