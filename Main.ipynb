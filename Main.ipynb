{
 "cells": [
  {
   "cell_type": "markdown",
   "metadata": {
    "colab_type": "text",
    "id": "view-in-github"
   },
   "source": [
    "<a href=\"https://colab.research.google.com/github/rhrokib/bangla_vulgarity_detection/blob/main/Main.ipynb\" target=\"_parent\"><img src=\"https://colab.research.google.com/assets/colab-badge.svg\" alt=\"Open In Colab\"/></a>"
   ]
  },
  {
   "cell_type": "code",
   "execution_count": 1,
   "metadata": {
    "id": "3_tq-9L0XmjG"
   },
   "outputs": [],
   "source": [
    "import tensorflow as tf\n",
    "import numpy as np \n",
    "import pandas as pd"
   ]
  },
  {
   "cell_type": "markdown",
   "metadata": {
    "id": "1AIGj54VjGEd"
   },
   "source": [
    "# Dataset"
   ]
  },
  {
   "cell_type": "code",
   "execution_count": 2,
   "metadata": {
    "id": "pb0_VzoHZGov"
   },
   "outputs": [],
   "source": [
    "from sklearn.model_selection import train_test_split\n",
    "df = pd.read_csv('data/preprocessed_dataset.csv', na_values='nan')\n",
    "df.drop(columns=['Unnamed: 0'], inplace=True)\n",
    "\n",
    "train_data, test_data = train_test_split(df, random_state=7654, stratify=df['target'])"
   ]
  },
  {
   "cell_type": "markdown",
   "metadata": {
    "id": "PwHaEnprw-F6"
   },
   "source": [
    "# Testing models"
   ]
  },
  {
   "cell_type": "code",
   "execution_count": 3,
   "metadata": {
    "id": "NpkaQ7HfZUZ7"
   },
   "outputs": [],
   "source": [
    "training_sentences = []\n",
    "testing_sentences = []\n",
    "training_labels = train_data['target']\n",
    "testing_labels = test_data['target']\n",
    "\n",
    "for t in train_data['text']:\n",
    "  training_sentences.append(str(t))\n",
    "\n",
    "for t in test_data['text']:\n",
    "  testing_sentences.append(str(t))"
   ]
  },
  {
   "cell_type": "code",
   "execution_count": 4,
   "metadata": {
    "id": "O4yXW84Jcl7U"
   },
   "outputs": [],
   "source": [
    "testing_labels = np.array(testing_labels)\n",
    "training_labels = np.array(training_labels)"
   ]
  },
  {
   "cell_type": "markdown",
   "metadata": {
    "id": "bmqP6H7nuPpi"
   },
   "source": [
    "# Hyper Perameters"
   ]
  },
  {
   "cell_type": "code",
   "execution_count": 5,
   "metadata": {
    "id": "QKML5n--uS2M"
   },
   "outputs": [],
   "source": [
    "num_epochs = 10\n",
    "vocab_size = 8000\n",
    "embedding_dim = 16\n",
    "max_length = 120\n",
    "trunc_type = 'post'\n",
    "oov_tok = '<OOV>'\n"
   ]
  },
  {
   "cell_type": "markdown",
   "metadata": {
    "id": "cuS_M0xwuWRj"
   },
   "source": [
    "# Tokenizing and Padding sentences"
   ]
  },
  {
   "cell_type": "code",
   "execution_count": 6,
   "metadata": {
    "id": "lMjcL2Q9c97h"
   },
   "outputs": [],
   "source": [
    "from tensorflow.keras.preprocessing.text import Tokenizer\n",
    "from tensorflow.keras.preprocessing.sequence import pad_sequences\n",
    "\n",
    "tokenizer = Tokenizer(num_words=vocab_size, oov_token=oov_tok)\n",
    "tokenizer.fit_on_texts(training_sentences)\n",
    "word_index = tokenizer.word_index\n",
    "sequences = tokenizer.texts_to_sequences(training_sentences)\n",
    "padded = pad_sequences(sequences, maxlen=max_length, truncating=trunc_type)\n",
    "\n",
    "testing_sequences = tokenizer.texts_to_sequences(testing_sentences)\n",
    "testing_padded = pad_sequences(testing_sequences, maxlen=max_length, truncating=trunc_type)\\\n",
    "\n",
    "#Updating vocab_size\n",
    "# vocab_size = len(word_index) if len(word_index) < 5000 else 5000"
   ]
  },
  {
   "cell_type": "markdown",
   "metadata": {
    "id": "2JVZIkJUzJrA"
   },
   "source": [
    "# Experimenting with different models"
   ]
  },
  {
   "cell_type": "code",
   "execution_count": 7,
   "metadata": {
    "id": "5VxS6xGzzPPN"
   },
   "outputs": [],
   "source": [
    "my_models = {}"
   ]
  },
  {
   "cell_type": "markdown",
   "metadata": {
    "id": "l1FFIRUctoDk"
   },
   "source": [
    "# Model Double_Layer_LSTM"
   ]
  },
  {
   "cell_type": "code",
   "execution_count": 8,
   "metadata": {
    "colab": {
     "base_uri": "https://localhost:8080/",
     "height": 1000
    },
    "id": "Jph_eU6dtpJV",
    "outputId": "042af2ce-4919-4515-e91c-b6a7523b900a"
   },
   "outputs": [
    {
     "name": "stdout",
     "output_type": "stream",
     "text": [
      "Model: \"Double_Layer_LSTM\"\n",
      "_________________________________________________________________\n",
      " Layer (type)                Output Shape              Param #   \n",
      "=================================================================\n",
      " Padded_data (Embedding)     (None, 120, 16)           128000    \n",
      "                                                                 \n",
      " Bidirectional_1 (Bidirectio  (None, 120, 64)          12544     \n",
      " nal)                                                            \n",
      "                                                                 \n",
      " Bidirectional_2 (Bidirectio  (None, 32)               10368     \n",
      " nal)                                                            \n",
      "                                                                 \n",
      " Dense_6 (Dense)             (None, 6)                 198       \n",
      "                                                                 \n",
      " Dense_1 (Dense)             (None, 1)                 7         \n",
      "                                                                 \n",
      "=================================================================\n",
      "Total params: 151,117\n",
      "Trainable params: 151,117\n",
      "Non-trainable params: 0\n",
      "_________________________________________________________________\n"
     ]
    },
    {
     "data": {
      "image/png": "[encoded data removed]",
      "text/plain": [
       "<IPython.core.display.Image object>"
      ]
     },
     "execution_count": 8,
     "metadata": {},
     "output_type": "execute_result"
    }
   ],
   "source": [
    "from tensorflow.keras.utils import plot_model\n",
    "\n",
    "model_Double_LSTM  = tf.keras.Sequential([\n",
    "  tf.keras.layers.Embedding(vocab_size, embedding_dim, input_length=max_length, name='Padded_data'),\n",
    "  tf.keras.layers.Bidirectional(tf.keras.layers.LSTM(embedding_dim*2, name='LSTM_Layer_1', return_sequences=True), name='Bidirectional_1'),\n",
    "  tf.keras.layers.Bidirectional(tf.keras.layers.LSTM(embedding_dim, name='LSTM_Layer_2'), name='Bidirectional_2'),\n",
    "  tf.keras.layers.Dense(6, activation='relu', name='Dense_6'),\n",
    "  tf.keras.layers.Dense(1, activation='sigmoid', name='Dense_1')\n",
    "], name='Double_Layer_LSTM')\n",
    "\n",
    "model_Double_LSTM.compile(loss='binary_crossentropy', optimizer='adam', metrics=['accuracy'])\n",
    "model_Double_LSTM.summary()\n",
    "plot_model(model_Double_LSTM, to_file=f'Figures/models/{model_Double_LSTM.name}.png', show_shapes=True, show_layer_names=True)"
   ]
  },
  {
   "cell_type": "code",
   "execution_count": 9,
   "metadata": {
    "colab": {
     "base_uri": "https://localhost:8080/"
    },
    "id": "R7lUInUbyq85",
    "outputId": "a2142205-ec79-465f-8064-b21424e0c628"
   },
   "outputs": [
    {
     "name": "stdout",
     "output_type": "stream",
     "text": [
      "Epoch 1/3\n",
      "467/467 [==============================] - 264s 565ms/step - loss: 0.4053 - accuracy: 0.7987 - val_loss: 0.2771 - val_accuracy: 0.8839\n",
      "Epoch 2/3\n",
      "467/467 [==============================] - 264s 565ms/step - loss: 0.1836 - accuracy: 0.9289 - val_loss: 0.2783 - val_accuracy: 0.8831\n",
      "Epoch 3/3\n",
      "467/467 [==============================] - 263s 563ms/step - loss: 0.1237 - accuracy: 0.9537 - val_loss: 0.3161 - val_accuracy: 0.8776\n"
     ]
    }
   ],
   "source": [
    "tf.config.run_functions_eagerly(True)\n",
    "tf.data.experimental.enable_debug_mode()\n",
    "history = model_Double_LSTM.fit(padded, training_labels, epochs=num_epochs, validation_data=(testing_padded, testing_labels), verbose=1)"
   ]
  },
  {
   "cell_type": "code",
   "execution_count": 10,
   "metadata": {
    "id": "xv0ifpBmles4"
   },
   "outputs": [
    {
     "data": {
      "image/png": "[encoded data removed]",
      "text/plain": [
       "<Figure size 432x288 with 1 Axes>"
      ]
     },
     "metadata": {
      "needs_background": "light"
     },
     "output_type": "display_data"
    },
    {
     "data": {
      "image/png": "[encoded data removed]",
      "text/plain": [
       "<Figure size 432x288 with 1 Axes>"
      ]
     },
     "metadata": {
      "needs_background": "light"
     },
     "output_type": "display_data"
    }
   ],
   "source": [
    "import matplotlib.pyplot as plt\n",
    "\n",
    "def plot_graphs(name, history, string):\n",
    "  plt.plot(history.history[string])\n",
    "  plt.plot(history.history['val_'+string])\n",
    "  plt.xlabel(\"Epochs\")\n",
    "  plt.ylabel(string)\n",
    "  plt.legend([string, 'val_'+string])\n",
    "  plt.title(name, bbox=dict(facecolor='white', alpha=0))\n",
    "  plt.savefig(f'Figures/metric/{name}_{string}.png', dpi=300, transparent=False)\n",
    "  plt.show()\n",
    "  \n",
    "plot_graphs(model_Double_LSTM.name, history, \"accuracy\",)\n",
    "plot_graphs(model_Double_LSTM.name, history, \"loss\")"
   ]
  },
  {
   "cell_type": "markdown",
   "metadata": {
    "id": "WCfvUL3L-5jt"
   },
   "source": [
    "# Model Single Layer LSTM"
   ]
  },
  {
   "cell_type": "code",
   "execution_count": null,
   "metadata": {
    "colab": {
     "base_uri": "https://localhost:8080/",
     "height": 0
    },
    "id": "QW1vZwxa-9oO",
    "outputId": "7dc45587-489a-422c-adea-879f18b246a4"
   },
   "outputs": [
    {
     "name": "stdout",
     "output_type": "stream",
     "text": [
      "Model: \"Single_layer_LSTM\"\n",
      "_________________________________________________________________\n",
      " Layer (type)                Output Shape              Param #   \n",
      "=================================================================\n",
      " Padded_data (Embedding)     (None, 120, 16)           128000    \n",
      "                                                                 \n",
      " Bidirectional (Bidirectiona  (None, 64)               12544     \n",
      " l)                                                              \n",
      "                                                                 \n",
      " Dense_6 (Dense)             (None, 6)                 390       \n",
      "                                                                 \n",
      " Dense_1 (Dense)             (None, 1)                 7         \n",
      "                                                                 \n",
      "=================================================================\n",
      "Total params: 140,941\n",
      "Trainable params: 140,941\n",
      "Non-trainable params: 0\n",
      "_________________________________________________________________\n"
     ]
    }
   ],
   "source": [
    "model_Sinle_LSTM  = tf.keras.Sequential([\n",
    "  tf.keras.layers.Embedding(vocab_size, embedding_dim, input_length=max_length, name='Padded_data'),\n",
    "  tf.keras.layers.Bidirectional(tf.keras.layers.LSTM(embedding_dim*2, name='LSTM_Layer'), name='Bidirectional'), #LSTM1\n",
    "  tf.keras.layers.Dense(6, activation='relu', name='Dense_6'),\n",
    "  tf.keras.layers.Dense(1, activation='sigmoid', name='Dense_1')\n",
    "], name='Single_layer_LSTM')\n",
    "\n",
    "model_Sinle_LSTM.compile(loss='binary_crossentropy', optimizer='adam', metrics=['accuracy'])\n",
    "model_Sinle_LSTM.summary()\n",
    "plot_model(model_Sinle_LSTM, to_file=f'Figures/models/{model_Sinle_LSTM.name}.png', show_shapes=True, show_layer_names=True)\n",
    "\n",
    "history = model_Sinle_LSTM.fit(padded, training_labels, epochs=num_epochs, validation_data=(testing_padded, testing_labels), verbose=0)\n",
    "\n",
    "plot_graphs(model_Sinle_LSTM.name, history, \"accuracy\",)\n",
    "plot_graphs(model_Sinle_LSTM.name, history, \"loss\")"
   ]
  },
  {
   "cell_type": "markdown",
   "metadata": {
    "id": "Vv2wjtNtF7h9"
   },
   "source": [
    "# Model GRU_LSTM"
   ]
  },
  {
   "cell_type": "code",
   "execution_count": null,
   "metadata": {
    "colab": {
     "base_uri": "https://localhost:8080/",
     "height": 903
    },
    "id": "V72je3Y6F9nn",
    "outputId": "14c47435-e25f-427b-8046-92c53b794545"
   },
   "outputs": [],
   "source": [
    "model_GRU  = tf.keras.Sequential([\n",
    "  tf.keras.layers.Embedding(vocab_size, embedding_dim, input_length=max_length, name='Padded_data'),\n",
    "  tf.keras.layers.Bidirectional(tf.keras.layers.GRU(embedding_dim*2, name='GRU_Layer'), name='Bidirectional'), #LSTM1\n",
    "  tf.keras.layers.Dense(6, activation='relu', name='Dense_6'),\n",
    "  tf.keras.layers.Dense(1, activation='sigmoid', name='Dense_1')\n",
    "], name='GRU')\n",
    "\n",
    "model_GRU.compile(loss='binary_crossentropy', optimizer='adam', metrics=['accuracy'])\n",
    "model_GRU.summary()\n",
    "plot_model(model_GRU, to_file=f'Figures/models/{model_GRU.name}.png', show_shapes=True, show_layer_names=True)\n",
    "\n",
    "history = model_GRU.fit(padded, training_labels, epochs=num_epochs, validation_data=(testing_padded, testing_labels), verbose=0)\n",
    "\n",
    "plot_graphs(model_GRU.name, history, \"accuracy\",)\n",
    "plot_graphs(model_GRU.name, history, \"loss\")"
   ]
  },
  {
   "cell_type": "markdown",
   "metadata": {
    "id": "gI1w1O0sJIQ3"
   },
   "source": [
    "# Model CNN Convo1D"
   ]
  },
  {
   "cell_type": "code",
   "execution_count": null,
   "metadata": {
    "colab": {
     "base_uri": "https://localhost:8080/",
     "height": 938
    },
    "id": "XhiedlBrJLdC",
    "outputId": "5cb56e8b-9b7e-474b-c136-7a868d335f20"
   },
   "outputs": [],
   "source": [
    "model_Convo1d  = tf.keras.Sequential([\n",
    "  tf.keras.layers.Embedding(vocab_size, embedding_dim, input_length=max_length, name='Padded_data'),\n",
    "  # tf.keras.layers.Bidirectional(tf.keras.layers.GRU(embedding_dim*2, name='GRU_Layer'), name='Bidirectional'), #LSTM1\n",
    "  tf.keras.layers.Conv1D(128, 5, activation='relu', name='Conv1D_Layer'),\n",
    "  tf.keras.layers.GlobalAveragePooling1D(name='Flattening_Layer'),\n",
    "  tf.keras.layers.Dense(6, activation='relu', name='Dense_6'),\n",
    "  tf.keras.layers.Dense(1, activation='sigmoid', name='Dense_1')\n",
    "], name='Convo1D')\n",
    "\n",
    "model_Convo1d.compile(loss='binary_crossentropy', optimizer='adam', metrics=['accuracy'])\n",
    "model_Convo1d.summary()\n",
    "plot_model(model_Convo1d, to_file=f'Figures/models/{model_Convo1d.name}.png', show_shapes=True, show_layer_names=True)\n",
    "\n",
    "history = model.fit(padded, training_labels, epochs=num_epochs, validation_data=(testing_padded, testing_labels), verbose=0)\n",
    "\n",
    "plot_graphs(model_Convo1d.name, history, \"accuracy\",)\n",
    "plot_graphs(model_Convo1d.name, history, \"loss\")"
   ]
  },
  {
   "cell_type": "markdown",
   "metadata": {},
   "source": [
    "# Saving Models"
   ]
  },
  {
   "cell_type": "code",
   "execution_count": null,
   "metadata": {},
   "outputs": [],
   "source": [
    "model.save('saved_models/Single_LSTM.h5')\n",
    "model.save('saved_models/Double_LSTM.h5')\n",
    "model.save('saved_models/GRU.h5')\n",
    "model.save('saved_models/Convo1D.h5')"
   ]
  },
  {
   "cell_type": "markdown",
   "metadata": {
    "id": "V18J_lMYoSO3"
   },
   "source": [
    "# Embedding Vector"
   ]
  },
  {
   "cell_type": "code",
   "execution_count": null,
   "metadata": {
    "id": "_e7RHsnD7P5z"
   },
   "outputs": [],
   "source": [
    "# reverse_word_index = dict([(value, key) for (key, value) in word_index.items()])\n",
    "\n",
    "# def decode_review(text):\n",
    "#     return ' '.join([reverse_word_index.get(i, '?') for i in text])\n",
    "\n",
    "\n",
    "# e = model.layers[0]\n",
    "# weights = e.get_weights()[0]\n",
    "\n",
    "# #To save the embedding vector_meta\n",
    "# import io\n",
    "\n",
    "# def save_vector(vocab_size, reverse_word_index, weights):\n",
    "#     out_v = io.open('/content/drive/MyDrive/Colab Notebooks/thesis_project/vectors/vecs.tsv', 'w', encoding='utf-8')\n",
    "#     out_m = io.open('/content/drive/MyDrive/Colab Notebooks/thesis_project/vectors/meta.tsv', 'w', encoding='utf-8')\n",
    "#     for word_num in range(1, vocab_size):\n",
    "#         word = reverse_word_index[word_num]\n",
    "#         embeddings = weights[word_num]\n",
    "#         out_m.write(word + \"\\n\")\n",
    "#         out_v.write('\\t'.join([str(x) for x in embeddings]) + \"\\n\")\n",
    "#     out_v.close()\n",
    "#     out_m.close()\n",
    "        \n",
    "        \n",
    "# save_vector(vocab_size, reverse_word_index, weights)\n",
    "\n",
    "# try:\n",
    "#   from google.colab import files\n",
    "# except ImportError:\n",
    "#   pass\n",
    "# else:\n",
    "#   files.download('vecs.tsv')\n",
    "#   files.download('meta.tsv')"
   ]
  },
  {
   "cell_type": "code",
   "execution_count": null,
   "metadata": {
    "id": "LKs7a0Xy0RpL"
   },
   "outputs": [],
   "source": [
    "# pred = (model.predict(testing_padded) > 0.5).astype(int)"
   ]
  },
  {
   "cell_type": "markdown",
   "metadata": {
    "id": "bAfOn90MoSO4"
   },
   "source": [
    "# Testing with manual input"
   ]
  },
  {
   "cell_type": "code",
   "execution_count": null,
   "metadata": {
    "colab": {
     "base_uri": "https://localhost:8080/"
    },
    "id": "zmB0_hjooc8M",
    "outputId": "419a05f2-97e2-4a68-97ca-dd8cb2f88539"
   },
   "outputs": [],
   "source": [
    "# sen = ['এত্তগুলা গালি 😑', 'কুত্তার বাচ্চা', 'কি আর লিখবো! মান সন্মান নিয়ে প্রশ্ন']\n",
    "\n",
    "# test_sequences = tokenizer.texts_to_sequences(sen)\n",
    "# test_padded = pad_sequences(test_sequences, maxlen=max_length, truncating=trunc_type)\n",
    "\n",
    "# print(model.predict(test_padded)) "
   ]
  },
  {
   "cell_type": "markdown",
   "metadata": {
    "id": "jMyF5gYkoSO5"
   },
   "source": [
    "# Loading a pre-saved model"
   ]
  },
  {
   "cell_type": "code",
   "execution_count": null,
   "metadata": {
    "id": "spMXmR0VoSO5"
   },
   "outputs": [],
   "source": [
    "# new_model = tf.keras.models.load_model('saved_models/Double_LSTM.h5')\n",
    "\n",
    "# sen = ['এত্তগুলা গালি 😑', 'কুত্তার বাচ্চা', 'কি আর লিখবো! মান সন্মান নিয়ে প্রশ্ন']\n",
    "\n",
    "# test_sequences = tokenizer.texts_to_sequences(sen)\n",
    "# test_padded = pad_sequences(test_sequences, maxlen=max_length, truncating=trunc_type)\n",
    "\n",
    "# print(new_model.predict(test_padded)) "
   ]
  }
 ],
 "metadata": {
  "colab": {
   "include_colab_link": true,
   "name": "Copy of LastPrac.ipynb",
   "provenance": []
  },
  "kernelspec": {
   "display_name": "Python 3 (ipykernel)",
   "language": "python",
   "name": "python3"
  },
  "language_info": {
   "codemirror_mode": {
    "name": "ipython",
    "version": 3
   },
   "file_extension": ".py",
   "mimetype": "text/x-python",
   "name": "python",
   "nbconvert_exporter": "python",
   "pygments_lexer": "ipython3",
   "version": "3.9.7"
  }
 },
 "nbformat": 4,
 "nbformat_minor": 1
}
