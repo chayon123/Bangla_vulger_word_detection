{
  "cells": [
    {
      "cell_type": "markdown",
      "metadata": {
        "id": "view-in-github",
        "colab_type": "text"
      },
      "source": [
        "<a href=\"https://colab.research.google.com/github/rhrokib/bangla_vulgarity_detection/blob/main/test_models.ipynb\" target=\"_parent\"><img src=\"https://colab.research.google.com/assets/colab-badge.svg\" alt=\"Open In Colab\"/></a>"
      ]
    },
    {
      "cell_type": "code",
      "source": [
        "import tensorflow as tf\n",
        "from keras_preprocessing.text import tokenizer_from_json\n",
        "from tensorflow.keras.preprocessing.sequence import pad_sequences\n",
        "import io\n",
        "import json\n",
        "\n",
        "PATH = '/content/drive/MyDrive/Colab Notebooks/thesis_project/saved_models'"
      ],
      "metadata": {
        "id": "yYdGr6os57jA"
      },
      "execution_count": 12,
      "outputs": []
    },
    {
      "cell_type": "code",
      "source": [
        "num_epochs = 10\n",
        "vocab_size = 8000\n",
        "embedding_dim = 16\n",
        "max_length = 120\n",
        "trunc_type = 'post'\n",
        "oov_tok = '<OOV>'"
      ],
      "metadata": {
        "id": "pN2aXR_B71r0"
      },
      "execution_count": 13,
      "outputs": []
    },
    {
      "cell_type": "code",
      "source": [
        "with open(f'{PATH}/tokenizer.json') as f:\n",
        "  data = json.load(f)\n",
        "  tokenizer = tokenizer_from_json(data)"
      ],
      "metadata": {
        "id": "SOOYzmC56GQ-"
      },
      "execution_count": 11,
      "outputs": []
    },
    {
      "cell_type": "code",
      "execution_count": 17,
      "metadata": {
        "id": "w3EhvqXi3gNo"
      },
      "outputs": [],
      "source": [
        "single_LSTM = tf.keras.models.load_model(f'{PATH}/Single_LSTM.h5')\n",
        "double_LSTM = tf.keras.models.load_model(f'{PATH}/Double_LSTM.h5')\n",
        "single_LSTM_reduced = tf.keras.models.load_model(f'{PATH}/Single_LSTM_Reduced.h5')\n",
        "double_LSTM_reduced  = tf.keras.models.load_model(f'{PATH}/Double_LSTM_Reduced.h5')"
      ]
    },
    {
      "cell_type": "code",
      "source": [
        "\n",
        "\n",
        "test_sentences = ['এত্তগুলা গালি 😑', 'কুত্তার বাচ্চা', 'কি আর লিখবো! মান সন্মান নিয়ে প্রশ্ন']\n",
        "\n",
        "test_sequences = tokenizer.texts_to_sequences(test_sentences)\n",
        "test_padded = pad_sequences(test_sequences, maxlen=max_length, truncating=trunc_type)\n",
        "\n",
        "print(double_LSTM_reduced.predict(test_padded)) "
      ],
      "metadata": {
        "colab": {
          "base_uri": "https://localhost:8080/"
        },
        "id": "odCO0dED7URg",
        "outputId": "d995cc65-dec0-436d-e5aa-31283963aeea"
      },
      "execution_count": 18,
      "outputs": [
        {
          "output_type": "stream",
          "name": "stdout",
          "text": [
            "[[0.81431514]\n",
            " [0.99341947]\n",
            " [0.00139385]]\n"
          ]
        }
      ]
    }
  ],
  "metadata": {
    "language_info": {
      "name": "python"
    },
    "orig_nbformat": 4,
    "colab": {
      "name": "test_models.ipynb",
      "provenance": [],
      "include_colab_link": true
    },
    "kernelspec": {
      "name": "python3",
      "display_name": "Python 3"
    }
  },
  "nbformat": 4,
  "nbformat_minor": 0
}