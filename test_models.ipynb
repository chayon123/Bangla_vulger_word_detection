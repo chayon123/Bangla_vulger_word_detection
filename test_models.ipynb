{
 "cells": [
  {
   "cell_type": "code",
   "execution_count": null,
   "metadata": {},
   "outputs": [],
   "source": [
    "import tensorflow as tf\n",
    "\n",
    "PATH = '.'\n",
    "\n",
    "single_LSTM = tf.keras.models.load_model(f'{PATH}/saved_models/Single_LSTM.h5')\n",
    "double_LSTM = tf.keras.models.load_model(f'{PATH}/saved_models/Double_LSTM.h5')\n",
    "single_LSTM_reduced = tf.keras.models.load_model(f'{PATH}/saved_models/Single_LSTM_Reduced.h5')\n",
    "single_LSTM_reduced  = tf.keras.models.load_model(f'{PATH}/saved_models/Double_LSTM_Reduced.h5')"
   ]
  }
 ],
 "metadata": {
  "language_info": {
   "name": "python"
  },
  "orig_nbformat": 4
 },
 "nbformat": 4,
 "nbformat_minor": 2
}
