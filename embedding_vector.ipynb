{
 "cells": [
  {
   "cell_type": "code",
   "execution_count": null,
   "metadata": {},
   "outputs": [],
   "source": [
    "import io\n",
    "\n",
    "\n",
    "def save_vector(vocab_size, reverse_word_index, weights):\n",
    "    out_v = io.open('vectors/vecs.tsv', 'w', encoding='utf-8')\n",
    "    out_m = io.open('vectors/meta.tsv', 'w', encoding='utf-8')\n",
    "    for word_num in range(1, vocab_size):\n",
    "        word = reverse_word_index[word_num]\n",
    "        embeddings = weights[word_num]\n",
    "        out_m.write(word + \"\\n\")\n",
    "        out_v.write('\\t'.join([str(x) for x in embeddings]) + \"\\n\")\n",
    "        out_v.close()\n",
    "        out_m.close()\n",
    "\n",
    "# save_vector(vocab_size, reverse_word_index)\n",
    "\n",
    "\n",
    "\n",
    "# try:\n",
    "#   from google.colab import files\n",
    "# except ImportError:\n",
    "#   pass\n",
    "# else:\n",
    "#   files.download('vecs.tsv')\n",
    "#   files.download('meta.tsv')"
   ]
  }
 ],
 "metadata": {
  "language_info": {
   "name": "python"
  },
  "orig_nbformat": 4
 },
 "nbformat": 4,
 "nbformat_minor": 2
}
